{
  "nbformat": 4,
  "nbformat_minor": 0,
  "metadata": {
    "accelerator": "GPU",
    "colab": {
      "name": "training_models_2.ipynb",
      "provenance": [],
      "collapsed_sections": []
    },
    "kernelspec": {
      "display_name": "Python 3",
      "name": "python3"
    },
    "language_info": {
      "name": "python"
    }
  },
  "cells": [
    {
      "cell_type": "code",
      "metadata": {
        "id": "OjTicwTwIscp"
      },
      "source": [
        "import tensorflow as tf\n",
        "import os\n",
        "import cv2\n",
        "import numpy as np\n",
        "import pandas as pd\n",
        "from sklearn.model_selection import train_test_split\n",
        "from PIL import Image\n",
        "import matplotlib.pyplot as plt\n",
        "import matplotlib.image as mpimg\n",
        "from keras.models import Sequential\n",
        "from keras.layers import Dense, Dropout, Flatten\n",
        "from keras.layers import Conv2D\n",
        "from tensorflow.keras.optimizers import Adam\n",
        "from keras.layers import MaxPooling2D\n",
        "from keras import regularizers\n",
        "from keras.preprocessing.image import ImageDataGenerator, array_to_img, img_to_array, load_img"
      ],
      "execution_count": null,
      "outputs": []
    },
    {
      "cell_type": "code",
      "metadata": {
        "id": "VT10jzRfQvqO"
      },
      "source": [
        ""
      ],
      "execution_count": null,
      "outputs": []
    },
    {
      "cell_type": "code",
      "metadata": {
        "id": "5f6v4lL4JLxb"
      },
      "source": [
        "def preprocess(pixels):\n",
        "  images = []\n",
        "  for i in range(len(pixels)):\n",
        "    img = np.fromstring(pixels[i], dtype='float32', sep=' ')\n",
        "    img = img / 255.0\n",
        "    img = img.reshape(48,48,1)\n",
        "    images.append(img)\n",
        "  return images"
      ],
      "execution_count": null,
      "outputs": []
    },
    {
      "cell_type": "code",
      "metadata": {
        "colab": {
          "base_uri": "https://localhost:8080/"
        },
        "id": "jYa7Z3D3JOnb",
        "outputId": "b911b32f-54cb-4d0a-b5d5-32d5b5bf1f36"
      },
      "source": [
        "df = pd.read_csv('/content/icml_face_data.csv')\n",
        "sample_subset = [3,4,0]\n",
        "train = df.groupby('Usage').get_group('Training')\n",
        "train = train.loc[train['emotion'].isin(sample_subset)]\n",
        "print(train.emotion.value_counts())\n",
        "x_train = np.array(preprocess(train['pixels'].to_numpy()))\n",
        "y_train = np.array(train['emotion'])\n",
        "y_dict = {3:0, 4:1, 0:2}\n",
        "y_train = np.array([y_dict[value] for value in y_train])\n",
        "\n",
        "\n",
        "testing = df.groupby('Usage').get_group('PublicTest')\n",
        "testing = testing.append(df.groupby('Usage').get_group('PrivateTest'))\n",
        "testing = testing.loc[testing['emotion'].isin(sample_subset)]\n",
        "print(testing.emotion.value_counts())\n",
        "x_test = np.array(preprocess(testing['pixels'].to_numpy()))\n",
        "y_test = np.array(testing['emotion'])\n",
        "y_test = np.array([y_dict[value] for value in y_test])"
      ],
      "execution_count": null,
      "outputs": [
        {
          "output_type": "stream",
          "name": "stdout",
          "text": [
            "3    7215\n",
            "4    4830\n",
            "0    3995\n",
            "Name: emotion, dtype: int64\n",
            "3    1774\n",
            "4    1247\n",
            "0     958\n",
            "Name: emotion, dtype: int64\n"
          ]
        }
      ]
    },
    {
      "cell_type": "code",
      "metadata": {
        "colab": {
          "base_uri": "https://localhost:8080/",
          "height": 562
        },
        "id": "vQz0iWx6uZj4",
        "outputId": "300668ab-a98c-4b6b-e8d7-25984aa0e301"
      },
      "source": [
        "TrainData = ImageDataGenerator(\n",
        "    width_shift_range= 0.2, height_shift_range= 0.2,\n",
        "    rotation_range= 90, rescale = 1/255,\n",
        "    horizontal_flip= True, vertical_flip=True)\n",
        "    \n",
        "ValidData = ImageDataGenerator(\n",
        "    horizontal_flip=True)\n",
        "    \n",
        "columns = ['emotion', 'Usage', 'pixels']    \n",
        "\n",
        "train_generator = TrainData.flow_from_dataframe(\n",
        "            dataframe=train, directory=\"/content/train\", \n",
        "            x_col=\"id\", y_col= columns, \n",
        "            class_mode=\"categorical\", target_size=(128,128), \n",
        "            batch_size= 32)\n",
        "            \n",
        "valid_generator = ValidData.flow_from_dataframe(\n",
        "            dataframe=testing, directory=\"/content/test\", \n",
        "            x_col=\"id\", y_col= columns, \n",
        "            class_mode=\"categorical\", target_size=(128,128), \n",
        "            batch_size=32)   "
      ],
      "execution_count": null,
      "outputs": [
        {
          "ename": "KeyError",
          "evalue": "ignored",
          "output_type": "error",
          "traceback": [
            "\u001b[0;31m---------------------------------------------------------------------------\u001b[0m",
            "\u001b[0;31mKeyError\u001b[0m                                  Traceback (most recent call last)",
            "\u001b[0;32m/usr/local/lib/python3.7/dist-packages/pandas/core/indexes/base.py\u001b[0m in \u001b[0;36mget_loc\u001b[0;34m(self, key, method, tolerance)\u001b[0m\n\u001b[1;32m   2897\u001b[0m             \u001b[0;32mtry\u001b[0m\u001b[0;34m:\u001b[0m\u001b[0;34m\u001b[0m\u001b[0;34m\u001b[0m\u001b[0m\n\u001b[0;32m-> 2898\u001b[0;31m                 \u001b[0;32mreturn\u001b[0m \u001b[0mself\u001b[0m\u001b[0;34m.\u001b[0m\u001b[0m_engine\u001b[0m\u001b[0;34m.\u001b[0m\u001b[0mget_loc\u001b[0m\u001b[0;34m(\u001b[0m\u001b[0mcasted_key\u001b[0m\u001b[0;34m)\u001b[0m\u001b[0;34m\u001b[0m\u001b[0;34m\u001b[0m\u001b[0m\n\u001b[0m\u001b[1;32m   2899\u001b[0m             \u001b[0;32mexcept\u001b[0m \u001b[0mKeyError\u001b[0m \u001b[0;32mas\u001b[0m \u001b[0merr\u001b[0m\u001b[0;34m:\u001b[0m\u001b[0;34m\u001b[0m\u001b[0;34m\u001b[0m\u001b[0m\n",
            "\u001b[0;32mpandas/_libs/index.pyx\u001b[0m in \u001b[0;36mpandas._libs.index.IndexEngine.get_loc\u001b[0;34m()\u001b[0m\n",
            "\u001b[0;32mpandas/_libs/index.pyx\u001b[0m in \u001b[0;36mpandas._libs.index.IndexEngine.get_loc\u001b[0;34m()\u001b[0m\n",
            "\u001b[0;32mpandas/_libs/hashtable_class_helper.pxi\u001b[0m in \u001b[0;36mpandas._libs.hashtable.PyObjectHashTable.get_item\u001b[0;34m()\u001b[0m\n",
            "\u001b[0;32mpandas/_libs/hashtable_class_helper.pxi\u001b[0m in \u001b[0;36mpandas._libs.hashtable.PyObjectHashTable.get_item\u001b[0;34m()\u001b[0m\n",
            "\u001b[0;31mKeyError\u001b[0m: 'filename'",
            "\nThe above exception was the direct cause of the following exception:\n",
            "\u001b[0;31mKeyError\u001b[0m                                  Traceback (most recent call last)",
            "\u001b[0;32m<ipython-input-40-fabfe55ff00d>\u001b[0m in \u001b[0;36m<module>\u001b[0;34m()\u001b[0m\n\u001b[1;32m     12\u001b[0m             \u001b[0mdataframe\u001b[0m\u001b[0;34m=\u001b[0m\u001b[0mtrain\u001b[0m\u001b[0;34m,\u001b[0m\u001b[0;34m\u001b[0m\u001b[0;34m\u001b[0m\u001b[0m\n\u001b[1;32m     13\u001b[0m             \u001b[0mclass_mode\u001b[0m\u001b[0;34m=\u001b[0m\u001b[0;34m\"categorical\"\u001b[0m\u001b[0;34m,\u001b[0m \u001b[0mtarget_size\u001b[0m\u001b[0;34m=\u001b[0m\u001b[0;34m(\u001b[0m\u001b[0;36m128\u001b[0m\u001b[0;34m,\u001b[0m\u001b[0;36m128\u001b[0m\u001b[0;34m)\u001b[0m\u001b[0;34m,\u001b[0m\u001b[0;34m\u001b[0m\u001b[0;34m\u001b[0m\u001b[0m\n\u001b[0;32m---> 14\u001b[0;31m             batch_size= 32)\n\u001b[0m\u001b[1;32m     15\u001b[0m \u001b[0;34m\u001b[0m\u001b[0m\n\u001b[1;32m     16\u001b[0m valid_generator = ValidData.flow_from_dataframe(\n",
            "\u001b[0;32m/usr/local/lib/python3.7/dist-packages/keras/preprocessing/image.py\u001b[0m in \u001b[0;36mflow_from_dataframe\u001b[0;34m(self, dataframe, directory, x_col, y_col, weight_col, target_size, color_mode, classes, class_mode, batch_size, shuffle, seed, save_to_dir, save_prefix, save_format, subset, interpolation, validate_filenames, **kwargs)\u001b[0m\n\u001b[1;32m   1135\u001b[0m         \u001b[0msubset\u001b[0m\u001b[0;34m=\u001b[0m\u001b[0msubset\u001b[0m\u001b[0;34m,\u001b[0m\u001b[0;34m\u001b[0m\u001b[0;34m\u001b[0m\u001b[0m\n\u001b[1;32m   1136\u001b[0m         \u001b[0minterpolation\u001b[0m\u001b[0;34m=\u001b[0m\u001b[0minterpolation\u001b[0m\u001b[0;34m,\u001b[0m\u001b[0;34m\u001b[0m\u001b[0;34m\u001b[0m\u001b[0m\n\u001b[0;32m-> 1137\u001b[0;31m         validate_filenames=validate_filenames)\n\u001b[0m\u001b[1;32m   1138\u001b[0m \u001b[0;34m\u001b[0m\u001b[0m\n\u001b[1;32m   1139\u001b[0m \u001b[0;34m\u001b[0m\u001b[0m\n",
            "\u001b[0;32m/usr/local/lib/python3.7/dist-packages/keras/preprocessing/image.py\u001b[0m in \u001b[0;36m__init__\u001b[0;34m(self, dataframe, directory, image_data_generator, x_col, y_col, weight_col, target_size, color_mode, classes, class_mode, batch_size, shuffle, seed, data_format, save_to_dir, save_prefix, save_format, subset, interpolation, dtype, validate_filenames)\u001b[0m\n\u001b[1;32m    590\u001b[0m         \u001b[0minterpolation\u001b[0m\u001b[0;34m=\u001b[0m\u001b[0minterpolation\u001b[0m\u001b[0;34m,\u001b[0m\u001b[0;34m\u001b[0m\u001b[0;34m\u001b[0m\u001b[0m\n\u001b[1;32m    591\u001b[0m         \u001b[0mdtype\u001b[0m\u001b[0;34m=\u001b[0m\u001b[0mdtype\u001b[0m\u001b[0;34m,\u001b[0m\u001b[0;34m\u001b[0m\u001b[0;34m\u001b[0m\u001b[0m\n\u001b[0;32m--> 592\u001b[0;31m         \u001b[0mvalidate_filenames\u001b[0m\u001b[0;34m=\u001b[0m\u001b[0mvalidate_filenames\u001b[0m\u001b[0;34m\u001b[0m\u001b[0;34m\u001b[0m\u001b[0m\n\u001b[0m\u001b[1;32m    593\u001b[0m     )\n\u001b[1;32m    594\u001b[0m \u001b[0;34m\u001b[0m\u001b[0m\n",
            "\u001b[0;32m/usr/local/lib/python3.7/dist-packages/keras_preprocessing/image/dataframe_iterator.py\u001b[0m in \u001b[0;36m__init__\u001b[0;34m(self, dataframe, directory, image_data_generator, x_col, y_col, weight_col, target_size, color_mode, classes, class_mode, batch_size, shuffle, seed, data_format, save_to_dir, save_prefix, save_format, subset, interpolation, dtype, validate_filenames)\u001b[0m\n\u001b[1;32m    136\u001b[0m         \u001b[0mself\u001b[0m\u001b[0;34m.\u001b[0m\u001b[0mdtype\u001b[0m \u001b[0;34m=\u001b[0m \u001b[0mdtype\u001b[0m\u001b[0;34m\u001b[0m\u001b[0;34m\u001b[0m\u001b[0m\n\u001b[1;32m    137\u001b[0m         \u001b[0;31m# check that inputs match the required class_mode\u001b[0m\u001b[0;34m\u001b[0m\u001b[0;34m\u001b[0m\u001b[0;34m\u001b[0m\u001b[0m\n\u001b[0;32m--> 138\u001b[0;31m         \u001b[0mself\u001b[0m\u001b[0;34m.\u001b[0m\u001b[0m_check_params\u001b[0m\u001b[0;34m(\u001b[0m\u001b[0mdf\u001b[0m\u001b[0;34m,\u001b[0m \u001b[0mx_col\u001b[0m\u001b[0;34m,\u001b[0m \u001b[0my_col\u001b[0m\u001b[0;34m,\u001b[0m \u001b[0mweight_col\u001b[0m\u001b[0;34m,\u001b[0m \u001b[0mclasses\u001b[0m\u001b[0;34m)\u001b[0m\u001b[0;34m\u001b[0m\u001b[0;34m\u001b[0m\u001b[0m\n\u001b[0m\u001b[1;32m    139\u001b[0m         \u001b[0;32mif\u001b[0m \u001b[0mvalidate_filenames\u001b[0m\u001b[0;34m:\u001b[0m  \u001b[0;31m# check which image files are valid and keep them\u001b[0m\u001b[0;34m\u001b[0m\u001b[0;34m\u001b[0m\u001b[0m\n\u001b[1;32m    140\u001b[0m             \u001b[0mdf\u001b[0m \u001b[0;34m=\u001b[0m \u001b[0mself\u001b[0m\u001b[0;34m.\u001b[0m\u001b[0m_filter_valid_filepaths\u001b[0m\u001b[0;34m(\u001b[0m\u001b[0mdf\u001b[0m\u001b[0;34m,\u001b[0m \u001b[0mx_col\u001b[0m\u001b[0;34m)\u001b[0m\u001b[0;34m\u001b[0m\u001b[0;34m\u001b[0m\u001b[0m\n",
            "\u001b[0;32m/usr/local/lib/python3.7/dist-packages/keras_preprocessing/image/dataframe_iterator.py\u001b[0m in \u001b[0;36m_check_params\u001b[0;34m(self, df, x_col, y_col, weight_col, classes)\u001b[0m\n\u001b[1;32m    188\u001b[0m             )\n\u001b[1;32m    189\u001b[0m         \u001b[0;31m# check that filenames/filepaths column values are all strings\u001b[0m\u001b[0;34m\u001b[0m\u001b[0;34m\u001b[0m\u001b[0;34m\u001b[0m\u001b[0m\n\u001b[0;32m--> 190\u001b[0;31m         \u001b[0;32mif\u001b[0m \u001b[0;32mnot\u001b[0m \u001b[0mall\u001b[0m\u001b[0;34m(\u001b[0m\u001b[0mdf\u001b[0m\u001b[0;34m[\u001b[0m\u001b[0mx_col\u001b[0m\u001b[0;34m]\u001b[0m\u001b[0;34m.\u001b[0m\u001b[0mapply\u001b[0m\u001b[0;34m(\u001b[0m\u001b[0;32mlambda\u001b[0m \u001b[0mx\u001b[0m\u001b[0;34m:\u001b[0m \u001b[0misinstance\u001b[0m\u001b[0;34m(\u001b[0m\u001b[0mx\u001b[0m\u001b[0;34m,\u001b[0m \u001b[0mstr\u001b[0m\u001b[0;34m)\u001b[0m\u001b[0;34m)\u001b[0m\u001b[0;34m)\u001b[0m\u001b[0;34m:\u001b[0m\u001b[0;34m\u001b[0m\u001b[0;34m\u001b[0m\u001b[0m\n\u001b[0m\u001b[1;32m    191\u001b[0m             raise TypeError('All values in column x_col={} must be strings.'\n\u001b[1;32m    192\u001b[0m                             .format(x_col))\n",
            "\u001b[0;32m/usr/local/lib/python3.7/dist-packages/pandas/core/frame.py\u001b[0m in \u001b[0;36m__getitem__\u001b[0;34m(self, key)\u001b[0m\n\u001b[1;32m   2904\u001b[0m             \u001b[0;32mif\u001b[0m \u001b[0mself\u001b[0m\u001b[0;34m.\u001b[0m\u001b[0mcolumns\u001b[0m\u001b[0;34m.\u001b[0m\u001b[0mnlevels\u001b[0m \u001b[0;34m>\u001b[0m \u001b[0;36m1\u001b[0m\u001b[0;34m:\u001b[0m\u001b[0;34m\u001b[0m\u001b[0;34m\u001b[0m\u001b[0m\n\u001b[1;32m   2905\u001b[0m                 \u001b[0;32mreturn\u001b[0m \u001b[0mself\u001b[0m\u001b[0;34m.\u001b[0m\u001b[0m_getitem_multilevel\u001b[0m\u001b[0;34m(\u001b[0m\u001b[0mkey\u001b[0m\u001b[0;34m)\u001b[0m\u001b[0;34m\u001b[0m\u001b[0;34m\u001b[0m\u001b[0m\n\u001b[0;32m-> 2906\u001b[0;31m             \u001b[0mindexer\u001b[0m \u001b[0;34m=\u001b[0m \u001b[0mself\u001b[0m\u001b[0;34m.\u001b[0m\u001b[0mcolumns\u001b[0m\u001b[0;34m.\u001b[0m\u001b[0mget_loc\u001b[0m\u001b[0;34m(\u001b[0m\u001b[0mkey\u001b[0m\u001b[0;34m)\u001b[0m\u001b[0;34m\u001b[0m\u001b[0;34m\u001b[0m\u001b[0m\n\u001b[0m\u001b[1;32m   2907\u001b[0m             \u001b[0;32mif\u001b[0m \u001b[0mis_integer\u001b[0m\u001b[0;34m(\u001b[0m\u001b[0mindexer\u001b[0m\u001b[0;34m)\u001b[0m\u001b[0;34m:\u001b[0m\u001b[0;34m\u001b[0m\u001b[0;34m\u001b[0m\u001b[0m\n\u001b[1;32m   2908\u001b[0m                 \u001b[0mindexer\u001b[0m \u001b[0;34m=\u001b[0m \u001b[0;34m[\u001b[0m\u001b[0mindexer\u001b[0m\u001b[0;34m]\u001b[0m\u001b[0;34m\u001b[0m\u001b[0;34m\u001b[0m\u001b[0m\n",
            "\u001b[0;32m/usr/local/lib/python3.7/dist-packages/pandas/core/indexes/base.py\u001b[0m in \u001b[0;36mget_loc\u001b[0;34m(self, key, method, tolerance)\u001b[0m\n\u001b[1;32m   2898\u001b[0m                 \u001b[0;32mreturn\u001b[0m \u001b[0mself\u001b[0m\u001b[0;34m.\u001b[0m\u001b[0m_engine\u001b[0m\u001b[0;34m.\u001b[0m\u001b[0mget_loc\u001b[0m\u001b[0;34m(\u001b[0m\u001b[0mcasted_key\u001b[0m\u001b[0;34m)\u001b[0m\u001b[0;34m\u001b[0m\u001b[0;34m\u001b[0m\u001b[0m\n\u001b[1;32m   2899\u001b[0m             \u001b[0;32mexcept\u001b[0m \u001b[0mKeyError\u001b[0m \u001b[0;32mas\u001b[0m \u001b[0merr\u001b[0m\u001b[0;34m:\u001b[0m\u001b[0;34m\u001b[0m\u001b[0;34m\u001b[0m\u001b[0m\n\u001b[0;32m-> 2900\u001b[0;31m                 \u001b[0;32mraise\u001b[0m \u001b[0mKeyError\u001b[0m\u001b[0;34m(\u001b[0m\u001b[0mkey\u001b[0m\u001b[0;34m)\u001b[0m \u001b[0;32mfrom\u001b[0m \u001b[0merr\u001b[0m\u001b[0;34m\u001b[0m\u001b[0;34m\u001b[0m\u001b[0m\n\u001b[0m\u001b[1;32m   2901\u001b[0m \u001b[0;34m\u001b[0m\u001b[0m\n\u001b[1;32m   2902\u001b[0m         \u001b[0;32mif\u001b[0m \u001b[0mtolerance\u001b[0m \u001b[0;32mis\u001b[0m \u001b[0;32mnot\u001b[0m \u001b[0;32mNone\u001b[0m\u001b[0;34m:\u001b[0m\u001b[0;34m\u001b[0m\u001b[0;34m\u001b[0m\u001b[0m\n",
            "\u001b[0;31mKeyError\u001b[0m: 'filename'"
          ]
        }
      ]
    },
    {
      "cell_type": "code",
      "metadata": {
        "id": "UHjWoBtwNEnq"
      },
      "source": [
        "def create_model():\n",
        "  model = tf.keras.models.Sequential()\n",
        "  #model.add(base_model)\n",
        "  model.add(tf.keras.layers.Conv2D(32, kernel_size=(3,3), activation='elu', padding='same', input_shape=(48,48,1), data_format='channels_last'))\n",
        "  model.add(tf.keras.layers.Conv2D(64, kernel_size=(3,3), padding = 'same', activation='elu'))\n",
        "  model.add(tf.keras.layers.MaxPooling2D(pool_size=(2,2)))\n",
        "  model.add(tf.keras.layers.Dropout(0.25))\n",
        "  model.add(tf.keras.layers.Conv2D(64, kernel_size=(3,3), padding = 'same', activation='elu'))\n",
        "  model.add(tf.keras.layers.MaxPooling2D(pool_size=(2,2), padding = 'same'))\n",
        "  model.add(tf.keras.layers.Conv2D(64, kernel_size=(3,3), padding = 'same', activation='elu'))\n",
        "  model.add(tf.keras.layers.MaxPooling2D(pool_size=(2,2), padding = 'same'))\n",
        "  model.add(tf.keras.layers.Dropout(0.25))\n",
        "  model.add(tf.keras.layers.Flatten())\n",
        "  model.add(tf.keras.layers.Dense(1024, activation='elu'))\n",
        "  model.add(tf.keras.layers.Dropout(0.25))\n",
        "  model.add(tf.keras.layers.Dense(3, activation='softmax'))\n",
        "\n",
        "  model.compile(loss='sparse_categorical_crossentropy', optimizer=tf.keras.optimizers.Adam(learning_rate=0.0003), metrics=['accuracy'])\n",
        "\n",
        "  return model"
      ],
      "execution_count": null,
      "outputs": []
    },
    {
      "cell_type": "code",
      "metadata": {
        "id": "73NqGLYOWZDm"
      },
      "source": [
        "def create_model_1():\n",
        "  model = tf.keras.models.Sequential()\n",
        "\n",
        "  model.add(tf.keras.layers.Conv2D(32, kernel_size=(3,3), activation='relu', strides=(1,1), padding='valid'))\n",
        "  # model.add(tf.keras.layers.BatchNormalization(axis=3))\n",
        "  model.add(tf.keras.layers.MaxPooling2D(pool_size=(2,2)))\n",
        "  model.add(tf.keras.layers.Dropout(.3))\n",
        " \n",
        "  model.add(tf.keras.layers.Conv2D(32, kernel_size=(3,3), activation='relu', strides=(1,1), padding='same'))\n",
        "  # model.add(tf.keras.layers.BatchNormalization(axis=3))\n",
        "  model.add(tf.keras.layers.MaxPooling2D(pool_size=(2,2)))\n",
        "  model.add(tf.keras.layers.Dropout(.3))\n",
        "\n",
        "\n",
        "  model.add(tf.keras.layers.Conv2D(128, kernel_size=(3,3), activation='relu', strides=(1,1), padding='valid'))\n",
        "  # model.add(tf.keras.layers.BatchNormalization(axis=3))\n",
        "  model.add(tf.keras.layers.MaxPooling2D(pool_size=(2,2)))\n",
        "  model.add(tf.keras.layers.Conv2D(128, kernel_size=(3,3), activation='relu', strides=(1,1), padding='same'))\n",
        "  # model.add(tf.keras.layers.BatchNormalization(axis=3))\n",
        "  model.add(tf.keras.layers.MaxPooling2D(pool_size=(2,2)))\n",
        "  model.add(tf.keras.layers.Dropout(.3))\n",
        "\n",
        "  model.add(tf.keras.layers.Conv2D(512, kernel_size=(3,3), activation='relu', strides=(1,1), padding='same'))\n",
        "  # model.add(tf.keras.layers.BatchNormalization(axis=3))\n",
        "  model.add(tf.keras.layers.MaxPooling2D(pool_size=(2,2)))\n",
        "  model.add(tf.keras.layers.Dropout(.3))\n",
        "\n",
        "  model.add(tf.keras.layers.Flatten())\n",
        "  model.add(tf.keras.layers.Dense(300, activation='relu'))\n",
        "  model.add(tf.keras.layers.Dropout(0.2))\n",
        "  model.add(tf.keras.layers.Dense(3, activation='softmax'))\n",
        "\n",
        "  model.compile(loss='sparse_categorical_crossentropy', optimizer=tf.keras.optimizers.Adam(lr=0.0003), metrics=['accuracy'])\n",
        "\n",
        "  return model  "
      ],
      "execution_count": null,
      "outputs": []
    },
    {
      "cell_type": "code",
      "metadata": {
        "id": "Lv49gHSPXGEZ"
      },
      "source": [
        "def create_model_2():\n",
        "  model = tf.keras.models.Sequential()\n",
        "\n",
        "  model.add(tf.keras.layers.Conv2D(32, kernel_size=(3,3), activation='relu', strides=(1,1), padding='valid'))\n",
        "  # model.add(tf.keras.layers.BatchNormalization(axis=3))\n",
        "  model.add(tf.keras.layers.MaxPooling2D(pool_size=(2,2)))\n",
        "  model.add(tf.keras.layers.Dropout(.3))\n",
        " \n",
        "  model.add(tf.keras.layers.Conv2D(32, kernel_size=(3,3), activation='relu', strides=(1,1), padding='same'))\n",
        "  # model.add(tf.keras.layers.BatchNormalization(axis=3))\n",
        "  model.add(tf.keras.layers.MaxPooling2D(pool_size=(2,2)))\n",
        "  model.add(tf.keras.layers.Dropout(.3))\n",
        "\n",
        "\n",
        "  model.add(tf.keras.layers.Conv2D(128, kernel_size=(3,3), activation='relu', strides=(1,1), padding='valid'))\n",
        "  # model.add(tf.keras.layers.BatchNormalization(axis=3))\n",
        "  model.add(tf.keras.layers.MaxPooling2D(pool_size=(2,2)))\n",
        "  model.add(tf.keras.layers.Conv2D(128, kernel_size=(3,3), activation='relu', strides=(1,1), padding='same'))\n",
        "  # model.add(tf.keras.layers.BatchNormalization(axis=3))\n",
        "  model.add(tf.keras.layers.MaxPooling2D(pool_size=(2,2)))\n",
        "  model.add(tf.keras.layers.Dropout(.3))\n",
        "\n",
        "  model.add(tf.keras.layers.Conv2D(512, kernel_size=(3,3), activation='relu', strides=(1,1), padding='same'))\n",
        "  model.add(tf.keras.layers.Conv2D(512, kernel_size=(3,3), activation='relu', strides=(1,1), padding='same'))\n",
        "  # model.add(tf.keras.layers.BatchNormalization(axis=3))\n",
        "  model.add(tf.keras.layers.MaxPooling2D(pool_size=(2,2)))\n",
        "  model.add(tf.keras.layers.Dropout(.3))\n",
        "\n",
        "\n",
        "  model.add(tf.keras.layers.Flatten())\n",
        "  model.add(tf.keras.layers.Dense(300, activation='relu'))\n",
        "  model.add(tf.keras.layers.Dropout(0.2))\n",
        "  model.add(tf.keras.layers.Dense(3, activation='softmax'))\n",
        "\n",
        "  model.compile(loss='sparse_categorical_crossentropy', optimizer=tf.keras.optimizers.Adam(learning_rate=0.0003), metrics=['accuracy'])\n",
        "\n",
        "  return model  "
      ],
      "execution_count": null,
      "outputs": []
    },
    {
      "cell_type": "code",
      "metadata": {
        "id": "LETkkYVMPnUn"
      },
      "source": [
        "def learning_curves(history, epochs):\n",
        "  plt.plot(range(1,epochs+1), history['val_accuracy'], label='validation accuracy')\n",
        "  plt.plot(range(1,epochs+1), history['accuracy'], label='training accuracy')\n",
        "  plt.legend()\n",
        "  plt.title('Learning curves')\n",
        "  plt.xlabel('Epochs')\n",
        "  plt.ylabel('Accuracy')"
      ],
      "execution_count": null,
      "outputs": []
    },
    {
      "cell_type": "code",
      "metadata": {
        "id": "qfa6pF-2KWk0"
      },
      "source": [
        "def main(model_to_create):\n",
        "  model = model_to_create\n",
        "  callback = tf.keras.callbacks.EarlyStopping(patience=4, restore_best_weights=True)\n",
        "  history = model.fit(x_train, y_train, batch_size=32, epochs=50, validation_data=(x_test, y_test), shuffle=True, callbacks=[callback])\n",
        "  return history"
      ],
      "execution_count": null,
      "outputs": []
    },
    {
      "cell_type": "code",
      "metadata": {
        "colab": {
          "base_uri": "https://localhost:8080/"
        },
        "id": "XNnHIyi9P5Yt",
        "outputId": "fbbb09ff-d821-426a-9966-211c1c8cbbe2"
      },
      "source": [
        "history = main(create_model())"
      ],
      "execution_count": null,
      "outputs": [
        {
          "name": "stdout",
          "output_type": "stream",
          "text": [
            "Epoch 1/50\n",
            "502/502 [==============================] - 20s 8ms/step - loss: 0.9508 - accuracy: 0.5388 - val_loss: 0.8317 - val_accuracy: 0.6230\n",
            "Epoch 2/50\n",
            "502/502 [==============================] - 4s 7ms/step - loss: 0.8114 - accuracy: 0.6275 - val_loss: 0.7702 - val_accuracy: 0.6522\n",
            "Epoch 3/50\n",
            "502/502 [==============================] - 4s 7ms/step - loss: 0.7398 - accuracy: 0.6705 - val_loss: 0.7240 - val_accuracy: 0.6836\n",
            "Epoch 4/50\n",
            "502/502 [==============================] - 4s 8ms/step - loss: 0.6943 - accuracy: 0.6948 - val_loss: 0.7005 - val_accuracy: 0.6944\n",
            "Epoch 5/50\n",
            "502/502 [==============================] - 4s 7ms/step - loss: 0.6549 - accuracy: 0.7166 - val_loss: 0.6899 - val_accuracy: 0.6999\n",
            "Epoch 6/50\n",
            "502/502 [==============================] - 4s 8ms/step - loss: 0.6258 - accuracy: 0.7309 - val_loss: 0.6784 - val_accuracy: 0.7085\n",
            "Epoch 7/50\n",
            "502/502 [==============================] - 4s 8ms/step - loss: 0.6037 - accuracy: 0.7394 - val_loss: 0.6972 - val_accuracy: 0.6946\n",
            "Epoch 8/50\n",
            "502/502 [==============================] - 4s 8ms/step - loss: 0.5821 - accuracy: 0.7502 - val_loss: 0.6715 - val_accuracy: 0.7105\n",
            "Epoch 9/50\n",
            "502/502 [==============================] - 4s 7ms/step - loss: 0.5520 - accuracy: 0.7645 - val_loss: 0.6662 - val_accuracy: 0.7087\n",
            "Epoch 10/50\n",
            "502/502 [==============================] - 4s 8ms/step - loss: 0.5369 - accuracy: 0.7748 - val_loss: 0.6852 - val_accuracy: 0.7065\n",
            "Epoch 11/50\n",
            "502/502 [==============================] - 4s 7ms/step - loss: 0.5148 - accuracy: 0.7829 - val_loss: 0.6743 - val_accuracy: 0.7153\n",
            "Epoch 12/50\n",
            "502/502 [==============================] - 4s 8ms/step - loss: 0.4967 - accuracy: 0.7906 - val_loss: 0.6782 - val_accuracy: 0.7142\n",
            "Epoch 13/50\n",
            "502/502 [==============================] - 4s 8ms/step - loss: 0.4763 - accuracy: 0.7999 - val_loss: 0.6856 - val_accuracy: 0.7148\n"
          ]
        }
      ]
    },
    {
      "cell_type": "code",
      "metadata": {
        "colab": {
          "base_uri": "https://localhost:8080/",
          "height": 295
        },
        "id": "xnVfauy-PjqA",
        "outputId": "e722a19f-9e2e-415b-a4fa-8f5c4ee90730"
      },
      "source": [
        "learning_curves(history.history, 13)"
      ],
      "execution_count": null,
      "outputs": [
        {
          "data": {
            "image/png": "[encoded data removed]",
            "text/plain": [
              "<Figure size 432x288 with 1 Axes>"
            ]
          },
          "metadata": {},
          "output_type": "display_data"
        }
      ]
    },
    {
      "cell_type": "code",
      "metadata": {
        "colab": {
          "base_uri": "https://localhost:8080/"
        },
        "id": "Y34W3qKPVl45",
        "outputId": "15015390-2c08-4366-8680-e67a4e3b8c0d"
      },
      "source": [
        "history = main(create_model_1())"
      ],
      "execution_count": null,
      "outputs": [
        {
          "name": "stderr",
          "output_type": "stream",
          "text": [
            "/usr/local/lib/python3.7/dist-packages/keras/optimizer_v2/adam.py:105: UserWarning: The `lr` argument is deprecated, use `learning_rate` instead.\n",
            "  super(Adam, self).__init__(name, **kwargs)\n"
          ]
        },
        {
          "name": "stdout",
          "output_type": "stream",
          "text": [
            "Epoch 1/50\n",
            "502/502 [==============================] - 4s 6ms/step - loss: 1.0646 - accuracy: 0.4484 - val_loss: 1.0706 - val_accuracy: 0.4506\n",
            "Epoch 2/50\n",
            "502/502 [==============================] - 3s 5ms/step - loss: 1.0358 - accuracy: 0.4761 - val_loss: 1.0099 - val_accuracy: 0.4876\n",
            "Epoch 3/50\n",
            "502/502 [==============================] - 3s 6ms/step - loss: 0.9454 - accuracy: 0.5443 - val_loss: 0.8576 - val_accuracy: 0.6014\n",
            "Epoch 4/50\n",
            "502/502 [==============================] - 3s 6ms/step - loss: 0.8538 - accuracy: 0.5992 - val_loss: 0.7788 - val_accuracy: 0.6444\n",
            "Epoch 5/50\n",
            "502/502 [==============================] - 3s 5ms/step - loss: 0.7996 - accuracy: 0.6280 - val_loss: 0.7413 - val_accuracy: 0.6575\n",
            "Epoch 6/50\n",
            "502/502 [==============================] - 3s 6ms/step - loss: 0.7526 - accuracy: 0.6527 - val_loss: 0.7044 - val_accuracy: 0.6843\n",
            "Epoch 7/50\n",
            "502/502 [==============================] - 3s 5ms/step - loss: 0.7196 - accuracy: 0.6698 - val_loss: 0.7014 - val_accuracy: 0.6944\n",
            "Epoch 8/50\n",
            "502/502 [==============================] - 3s 6ms/step - loss: 0.6872 - accuracy: 0.6897 - val_loss: 0.6559 - val_accuracy: 0.7158\n",
            "Epoch 9/50\n",
            "502/502 [==============================] - 3s 5ms/step - loss: 0.6629 - accuracy: 0.7063 - val_loss: 0.6321 - val_accuracy: 0.7303\n",
            "Epoch 10/50\n",
            "502/502 [==============================] - 3s 6ms/step - loss: 0.6422 - accuracy: 0.7158 - val_loss: 0.6205 - val_accuracy: 0.7323\n",
            "Epoch 11/50\n",
            "502/502 [==============================] - 3s 6ms/step - loss: 0.6218 - accuracy: 0.7269 - val_loss: 0.6128 - val_accuracy: 0.7341\n",
            "Epoch 12/50\n",
            "502/502 [==============================] - 3s 6ms/step - loss: 0.6008 - accuracy: 0.7428 - val_loss: 0.5984 - val_accuracy: 0.7442\n",
            "Epoch 13/50\n",
            "502/502 [==============================] - 3s 6ms/step - loss: 0.5842 - accuracy: 0.7463 - val_loss: 0.5878 - val_accuracy: 0.7507\n",
            "Epoch 14/50\n",
            "502/502 [==============================] - 3s 5ms/step - loss: 0.5640 - accuracy: 0.7567 - val_loss: 0.5854 - val_accuracy: 0.7547\n",
            "Epoch 15/50\n",
            "502/502 [==============================] - 3s 6ms/step - loss: 0.5564 - accuracy: 0.7580 - val_loss: 0.5847 - val_accuracy: 0.7580\n",
            "Epoch 16/50\n",
            "502/502 [==============================] - 3s 5ms/step - loss: 0.5380 - accuracy: 0.7707 - val_loss: 0.5792 - val_accuracy: 0.7595\n",
            "Epoch 17/50\n",
            "502/502 [==============================] - 3s 5ms/step - loss: 0.5303 - accuracy: 0.7724 - val_loss: 0.5813 - val_accuracy: 0.7585\n",
            "Epoch 18/50\n",
            "502/502 [==============================] - 3s 6ms/step - loss: 0.5129 - accuracy: 0.7828 - val_loss: 0.5821 - val_accuracy: 0.7602\n",
            "Epoch 19/50\n",
            "502/502 [==============================] - 3s 6ms/step - loss: 0.5029 - accuracy: 0.7881 - val_loss: 0.5713 - val_accuracy: 0.7693\n",
            "Epoch 20/50\n",
            "502/502 [==============================] - 3s 5ms/step - loss: 0.4910 - accuracy: 0.7927 - val_loss: 0.5759 - val_accuracy: 0.7587\n",
            "Epoch 21/50\n",
            "502/502 [==============================] - 3s 5ms/step - loss: 0.4800 - accuracy: 0.7984 - val_loss: 0.5645 - val_accuracy: 0.7633\n",
            "Epoch 22/50\n",
            "502/502 [==============================] - 3s 5ms/step - loss: 0.4692 - accuracy: 0.8027 - val_loss: 0.5683 - val_accuracy: 0.7683\n",
            "Epoch 23/50\n",
            "502/502 [==============================] - 3s 5ms/step - loss: 0.4497 - accuracy: 0.8099 - val_loss: 0.5697 - val_accuracy: 0.7635\n",
            "Epoch 24/50\n",
            "502/502 [==============================] - 3s 5ms/step - loss: 0.4459 - accuracy: 0.8140 - val_loss: 0.5760 - val_accuracy: 0.7587\n",
            "Epoch 25/50\n",
            "502/502 [==============================] - 3s 6ms/step - loss: 0.4332 - accuracy: 0.8203 - val_loss: 0.5663 - val_accuracy: 0.7595\n"
          ]
        }
      ]
    },
    {
      "cell_type": "code",
      "metadata": {
        "colab": {
          "base_uri": "https://localhost:8080/",
          "height": 295
        },
        "id": "Usim0sPOWqV4",
        "outputId": "41288598-4f6c-4738-b91d-3b3621473b70"
      },
      "source": [
        "learning_curves(history.history, 25)"
      ],
      "execution_count": null,
      "outputs": [
        {
          "data": {
            "image/png": "[encoded data removed]",
            "text/plain": [
              "<Figure size 432x288 with 1 Axes>"
            ]
          },
          "metadata": {},
          "output_type": "display_data"
        }
      ]
    },
    {
      "cell_type": "code",
      "metadata": {
        "colab": {
          "base_uri": "https://localhost:8080/"
        },
        "id": "MTSzfVr7W_GO",
        "outputId": "ed12c310-a32a-48e2-c9fc-b46edd594b83"
      },
      "source": [
        "history = main(create_model_2())"
      ],
      "execution_count": null,
      "outputs": [
        {
          "name": "stdout",
          "output_type": "stream",
          "text": [
            "Epoch 1/50\n",
            "502/502 [==============================] - 5s 9ms/step - loss: 1.0680 - accuracy: 0.4489 - val_loss: 1.0504 - val_accuracy: 0.4458\n",
            "Epoch 2/50\n",
            "502/502 [==============================] - 4s 8ms/step - loss: 0.9800 - accuracy: 0.5145 - val_loss: 0.8974 - val_accuracy: 0.5715\n",
            "Epoch 3/50\n",
            "502/502 [==============================] - 4s 8ms/step - loss: 0.8782 - accuracy: 0.5875 - val_loss: 0.8221 - val_accuracy: 0.6140\n",
            "Epoch 4/50\n",
            "502/502 [==============================] - 4s 8ms/step - loss: 0.8122 - accuracy: 0.6262 - val_loss: 0.7627 - val_accuracy: 0.6534\n",
            "Epoch 5/50\n",
            "502/502 [==============================] - 4s 8ms/step - loss: 0.7675 - accuracy: 0.6471 - val_loss: 0.7169 - val_accuracy: 0.6693\n",
            "Epoch 6/50\n",
            "502/502 [==============================] - 4s 8ms/step - loss: 0.7285 - accuracy: 0.6688 - val_loss: 0.6732 - val_accuracy: 0.6964\n",
            "Epoch 7/50\n",
            "502/502 [==============================] - 4s 8ms/step - loss: 0.6968 - accuracy: 0.6867 - val_loss: 0.6518 - val_accuracy: 0.7047\n",
            "Epoch 8/50\n",
            "502/502 [==============================] - 4s 8ms/step - loss: 0.6717 - accuracy: 0.7000 - val_loss: 0.6387 - val_accuracy: 0.7193\n",
            "Epoch 9/50\n",
            "502/502 [==============================] - 4s 8ms/step - loss: 0.6470 - accuracy: 0.7164 - val_loss: 0.6224 - val_accuracy: 0.7251\n",
            "Epoch 10/50\n",
            "502/502 [==============================] - 4s 8ms/step - loss: 0.6259 - accuracy: 0.7269 - val_loss: 0.6284 - val_accuracy: 0.7344\n",
            "Epoch 11/50\n",
            "502/502 [==============================] - 4s 8ms/step - loss: 0.6152 - accuracy: 0.7294 - val_loss: 0.6070 - val_accuracy: 0.7359\n",
            "Epoch 12/50\n",
            "502/502 [==============================] - 4s 8ms/step - loss: 0.5926 - accuracy: 0.7421 - val_loss: 0.5933 - val_accuracy: 0.7472\n",
            "Epoch 13/50\n",
            "502/502 [==============================] - 4s 8ms/step - loss: 0.5804 - accuracy: 0.7472 - val_loss: 0.5903 - val_accuracy: 0.7409\n",
            "Epoch 14/50\n",
            "502/502 [==============================] - 4s 8ms/step - loss: 0.5664 - accuracy: 0.7564 - val_loss: 0.5911 - val_accuracy: 0.7484\n",
            "Epoch 15/50\n",
            "502/502 [==============================] - 4s 8ms/step - loss: 0.5575 - accuracy: 0.7612 - val_loss: 0.5818 - val_accuracy: 0.7535\n",
            "Epoch 16/50\n",
            "502/502 [==============================] - 4s 8ms/step - loss: 0.5335 - accuracy: 0.7691 - val_loss: 0.5609 - val_accuracy: 0.7658\n",
            "Epoch 17/50\n",
            "502/502 [==============================] - 4s 8ms/step - loss: 0.5271 - accuracy: 0.7755 - val_loss: 0.5663 - val_accuracy: 0.7610\n",
            "Epoch 18/50\n",
            "502/502 [==============================] - 4s 8ms/step - loss: 0.5105 - accuracy: 0.7840 - val_loss: 0.5665 - val_accuracy: 0.7577\n",
            "Epoch 19/50\n",
            "502/502 [==============================] - 4s 8ms/step - loss: 0.4939 - accuracy: 0.7870 - val_loss: 0.5844 - val_accuracy: 0.7552\n",
            "Epoch 20/50\n",
            "502/502 [==============================] - 4s 8ms/step - loss: 0.4829 - accuracy: 0.7942 - val_loss: 0.5659 - val_accuracy: 0.7638\n"
          ]
        }
      ]
    },
    {
      "cell_type": "code",
      "metadata": {
        "colab": {
          "base_uri": "https://localhost:8080/",
          "height": 295
        },
        "id": "K7INu71nXYV4",
        "outputId": "9b185155-d48e-493f-ecc3-e1b452b33554"
      },
      "source": [
        "learning_curves(history.history, 20)"
      ],
      "execution_count": null,
      "outputs": [
        {
          "data": {
            "image/png": "[encoded data removed]",
            "text/plain": [
              "<Figure size 432x288 with 1 Axes>"
            ]
          },
          "metadata": {},
          "output_type": "display_data"
        }
      ]
    },
    {
      "cell_type": "code",
      "metadata": {
        "id": "TAyeToHMb7Jz"
      },
      "source": [
        "def create_model_3():\n",
        "  model = tf.keras.models.Sequential()\n",
        "\n",
        "  model.add(tf.keras.layers.Conv2D(32, kernel_size=(3,3), activation='relu', strides=(1,1), padding='valid'))\n",
        "  # model.add(tf.keras.layers.BatchNormalization(axis=3))\n",
        "  model.add(tf.keras.layers.MaxPooling2D(pool_size=(2,2)))\n",
        "  model.add(tf.keras.layers.Dropout(.3))\n",
        " \n",
        "  model.add(tf.keras.layers.Conv2D(32, kernel_size=(3,3), activation='relu', strides=(1,1), padding='same'))\n",
        "  # model.add(tf.keras.layers.BatchNormalization(axis=3))\n",
        "  model.add(tf.keras.layers.MaxPooling2D(pool_size=(2,2)))\n",
        "  model.add(tf.keras.layers.Dropout(.3))\n",
        "\n",
        "\n",
        "  model.add(tf.keras.layers.Conv2D(128, kernel_size=(3,3), activation='relu', strides=(1,1), padding='valid'))\n",
        "  # model.add(tf.keras.layers.BatchNormalization(axis=3))\n",
        "  model.add(tf.keras.layers.MaxPooling2D(pool_size=(2,2)))\n",
        "  model.add(tf.keras.layers.Conv2D(128, kernel_size=(3,3), activation='relu', strides=(1,1), padding='same'))\n",
        "  # model.add(tf.keras.layers.BatchNormalization(axis=3))\n",
        "  model.add(tf.keras.layers.MaxPooling2D(pool_size=(2,2)))\n",
        "  model.add(tf.keras.layers.Dropout(.3))\n",
        "\n",
        "  model.add(tf.keras.layers.Conv2D(512, kernel_size=(3,3), activation='relu', strides=(1,1), padding='same'))\n",
        "  model.add(tf.keras.layers.Conv2D(512, kernel_size=(3,3), activation='relu', strides=(1,1), padding='same'))\n",
        "  # model.add(tf.keras.layers.BatchNormalization(axis=3))\n",
        "  model.add(tf.keras.layers.MaxPooling2D(pool_size=(2,2)))\n",
        "  model.add(tf.keras.layers.Dropout(.3))\n",
        "\n",
        "\n",
        "  model.add(tf.keras.layers.Flatten())\n",
        "  model.add(tf.keras.layers.Dense(300, activation='relu'))\n",
        "  model.add(tf.keras.layers.Dropout(0.2))\n",
        "  model.add(tf.keras.layers.Dense(3, activation='softmax'))\n",
        "\n",
        "  model.compile(loss='sparse_categorical_crossentropy', optimizer=tf.keras.optimizers.Adam(learning_rate=0.0003), metrics=['accuracy'])\n",
        "\n",
        "  return model  "
      ],
      "execution_count": null,
      "outputs": []
    },
    {
      "cell_type": "code",
      "metadata": {
        "colab": {
          "base_uri": "https://localhost:8080/"
        },
        "id": "wQyzFzxpch6v",
        "outputId": "57efb3dd-039e-44e9-9a55-92e446e3ba6f"
      },
      "source": [
        "history = main(create_model_3())"
      ],
      "execution_count": null,
      "outputs": [
        {
          "name": "stdout",
          "output_type": "stream",
          "text": [
            "Epoch 1/50\n",
            "502/502 [==============================] - 21s 9ms/step - loss: 1.0648 - accuracy: 0.4498 - val_loss: 1.0608 - val_accuracy: 0.4725\n",
            "Epoch 2/50\n",
            "502/502 [==============================] - 4s 8ms/step - loss: 1.0168 - accuracy: 0.4906 - val_loss: 0.9677 - val_accuracy: 0.5137\n",
            "Epoch 3/50\n",
            "502/502 [==============================] - 4s 8ms/step - loss: 0.9152 - accuracy: 0.5600 - val_loss: 0.8921 - val_accuracy: 0.5780\n",
            "Epoch 4/50\n",
            "502/502 [==============================] - 4s 9ms/step - loss: 0.8549 - accuracy: 0.5959 - val_loss: 0.8044 - val_accuracy: 0.6285\n",
            "Epoch 5/50\n",
            "502/502 [==============================] - 4s 8ms/step - loss: 0.8079 - accuracy: 0.6236 - val_loss: 0.7500 - val_accuracy: 0.6597\n",
            "Epoch 6/50\n",
            "502/502 [==============================] - 4s 8ms/step - loss: 0.7782 - accuracy: 0.6406 - val_loss: 0.7292 - val_accuracy: 0.6647\n",
            "Epoch 7/50\n",
            "502/502 [==============================] - 4s 9ms/step - loss: 0.7435 - accuracy: 0.6585 - val_loss: 0.7095 - val_accuracy: 0.6803\n",
            "Epoch 8/50\n",
            "502/502 [==============================] - 4s 8ms/step - loss: 0.7140 - accuracy: 0.6781 - val_loss: 0.6639 - val_accuracy: 0.7062\n",
            "Epoch 9/50\n",
            "502/502 [==============================] - 4s 8ms/step - loss: 0.6835 - accuracy: 0.6926 - val_loss: 0.6408 - val_accuracy: 0.7135\n",
            "Epoch 10/50\n",
            "502/502 [==============================] - 4s 8ms/step - loss: 0.6645 - accuracy: 0.7005 - val_loss: 0.6505 - val_accuracy: 0.7034\n",
            "Epoch 11/50\n",
            "502/502 [==============================] - 4s 9ms/step - loss: 0.6481 - accuracy: 0.7151 - val_loss: 0.6259 - val_accuracy: 0.7246\n",
            "Epoch 12/50\n",
            "502/502 [==============================] - 4s 9ms/step - loss: 0.6321 - accuracy: 0.7223 - val_loss: 0.6313 - val_accuracy: 0.7228\n",
            "Epoch 13/50\n",
            "502/502 [==============================] - 4s 9ms/step - loss: 0.6186 - accuracy: 0.7289 - val_loss: 0.6079 - val_accuracy: 0.7369\n",
            "Epoch 14/50\n",
            "502/502 [==============================] - 4s 9ms/step - loss: 0.6004 - accuracy: 0.7362 - val_loss: 0.5911 - val_accuracy: 0.7492\n",
            "Epoch 15/50\n",
            "502/502 [==============================] - 4s 8ms/step - loss: 0.5813 - accuracy: 0.7463 - val_loss: 0.6297 - val_accuracy: 0.7203\n",
            "Epoch 16/50\n",
            "502/502 [==============================] - 4s 9ms/step - loss: 0.5687 - accuracy: 0.7546 - val_loss: 0.5895 - val_accuracy: 0.7452\n",
            "Epoch 17/50\n",
            "502/502 [==============================] - 4s 9ms/step - loss: 0.5574 - accuracy: 0.7549 - val_loss: 0.5906 - val_accuracy: 0.7442\n",
            "Epoch 18/50\n",
            "502/502 [==============================] - 4s 8ms/step - loss: 0.5382 - accuracy: 0.7696 - val_loss: 0.6093 - val_accuracy: 0.7359\n",
            "Epoch 19/50\n",
            "502/502 [==============================] - 4s 9ms/step - loss: 0.5341 - accuracy: 0.7705 - val_loss: 0.5760 - val_accuracy: 0.7530\n",
            "Epoch 20/50\n",
            "502/502 [==============================] - 4s 8ms/step - loss: 0.5153 - accuracy: 0.7797 - val_loss: 0.5719 - val_accuracy: 0.7555\n",
            "Epoch 21/50\n",
            "502/502 [==============================] - 4s 8ms/step - loss: 0.5015 - accuracy: 0.7868 - val_loss: 0.5719 - val_accuracy: 0.7562\n",
            "Epoch 22/50\n",
            "502/502 [==============================] - 4s 9ms/step - loss: 0.4829 - accuracy: 0.7946 - val_loss: 0.5739 - val_accuracy: 0.7537\n",
            "Epoch 23/50\n",
            "502/502 [==============================] - 4s 8ms/step - loss: 0.4705 - accuracy: 0.7972 - val_loss: 0.5681 - val_accuracy: 0.7587\n",
            "Epoch 24/50\n",
            "502/502 [==============================] - 4s 9ms/step - loss: 0.4682 - accuracy: 0.8029 - val_loss: 0.5765 - val_accuracy: 0.7595\n",
            "Epoch 25/50\n",
            "502/502 [==============================] - 4s 9ms/step - loss: 0.4542 - accuracy: 0.8098 - val_loss: 0.6023 - val_accuracy: 0.7492\n",
            "Epoch 26/50\n",
            "502/502 [==============================] - 4s 8ms/step - loss: 0.4417 - accuracy: 0.8177 - val_loss: 0.5683 - val_accuracy: 0.7663\n",
            "Epoch 27/50\n",
            "502/502 [==============================] - 4s 9ms/step - loss: 0.4305 - accuracy: 0.8213 - val_loss: 0.5855 - val_accuracy: 0.7565\n"
          ]
        }
      ]
    },
    {
      "cell_type": "code",
      "metadata": {
        "colab": {
          "base_uri": "https://localhost:8080/",
          "height": 295
        },
        "id": "HirFKkltckz8",
        "outputId": "462a2e54-0fff-4dad-b532-eb2b2faa9f6e"
      },
      "source": [
        "learning_curves(history.history, 27)"
      ],
      "execution_count": null,
      "outputs": [
        {
          "data": {
            "image/png": "[encoded data removed]",
            "text/plain": [
              "<Figure size 432x288 with 1 Axes>"
            ]
          },
          "metadata": {},
          "output_type": "display_data"
        }
      ]
    },
    {
      "cell_type": "code",
      "metadata": {
        "id": "oOvhoPrDpnE9"
      },
      "source": [
        "def create_model_4():\n",
        "  model = tf.keras.models.Sequential()\n",
        "\n",
        "  model.add(tf.keras.layers.Conv2D(32, kernel_size=(3,3), activation='relu', strides=(1,1), padding='valid'))\n",
        "  # model.add(tf.keras.layers.BatchNormalization(axis=3))\n",
        "  model.add(tf.keras.layers.MaxPooling2D(pool_size=(2,2)))\n",
        "  model.add(tf.keras.layers.Dropout(.3))\n",
        " \n",
        "  model.add(tf.keras.layers.Conv2D(32, kernel_size=(3,3), activation='relu', strides=(1,1), padding='same'))\n",
        "  # model.add(tf.keras.layers.BatchNormalization(axis=3))\n",
        "  model.add(tf.keras.layers.MaxPooling2D(pool_size=(2,2)))\n",
        "  model.add(tf.keras.layers.Dropout(.3))\n",
        "\n",
        "\n",
        "  model.add(tf.keras.layers.Conv2D(128, kernel_size=(3,3), activation='relu', strides=(1,1), padding='valid'))\n",
        "  # model.add(tf.keras.layers.BatchNormalization(axis=3))\n",
        "  model.add(tf.keras.layers.MaxPooling2D(pool_size=(2,2)))\n",
        "  model.add(tf.keras.layers.Conv2D(128, kernel_size=(3,3), activation='relu', strides=(1,1), padding='same'))\n",
        "  # model.add(tf.keras.layers.BatchNormalization(axis=3))\n",
        "  model.add(tf.keras.layers.MaxPooling2D(pool_size=(2,2)))\n",
        "  model.add(tf.keras.layers.Dropout(.3))\n",
        "\n",
        "  model.add(tf.keras.layers.Conv2D(512, kernel_size=(3,3), activation='relu', strides=(1,1), padding='same', kernel_regularizer=regularizers.l2(0.05)))\n",
        "  # model.add(tf.keras.layers.BatchNormalization(axis=3))\n",
        "  model.add(tf.keras.layers.MaxPooling2D(pool_size=(2,2)))\n",
        "  model.add(tf.keras.layers.Dropout(.3))\n",
        "\n",
        "\n",
        "  model.add(tf.keras.layers.Flatten())\n",
        "  model.add(tf.keras.layers.Dense(300, activation='relu'))\n",
        "  model.add(tf.keras.layers.Dropout(0.2))\n",
        "  model.add(tf.keras.layers.Dense(3, activation='softmax'))\n",
        "\n",
        "  model.compile(loss='sparse_categorical_crossentropy', optimizer=tf.keras.optimizers.Adam(learning_rate=0.0003), metrics=['accuracy'])\n",
        "\n",
        "  return model  "
      ],
      "execution_count": null,
      "outputs": []
    },
    {
      "cell_type": "code",
      "metadata": {
        "colab": {
          "base_uri": "https://localhost:8080/"
        },
        "id": "DvNOw2Ymp7M9",
        "outputId": "a30696e9-b3d0-4a28-bb4c-a638cc74b3c1"
      },
      "source": [
        "history = main(create_model_4())"
      ],
      "execution_count": null,
      "outputs": [
        {
          "name": "stdout",
          "output_type": "stream",
          "text": [
            "Epoch 1/50\n",
            "502/502 [==============================] - 5s 7ms/step - loss: 1.7216 - accuracy: 0.4499 - val_loss: 1.0653 - val_accuracy: 0.4458\n",
            "Epoch 2/50\n",
            "502/502 [==============================] - 3s 6ms/step - loss: 1.0555 - accuracy: 0.4601 - val_loss: 1.0490 - val_accuracy: 0.4835\n",
            "Epoch 3/50\n",
            "502/502 [==============================] - 3s 6ms/step - loss: 1.0237 - accuracy: 0.4921 - val_loss: 0.9639 - val_accuracy: 0.5514\n",
            "Epoch 4/50\n",
            "502/502 [==============================] - 3s 6ms/step - loss: 0.9469 - accuracy: 0.5503 - val_loss: 0.8870 - val_accuracy: 0.5901\n",
            "Epoch 5/50\n",
            "502/502 [==============================] - 3s 6ms/step - loss: 0.8966 - accuracy: 0.5736 - val_loss: 0.8490 - val_accuracy: 0.6120\n",
            "Epoch 6/50\n",
            "502/502 [==============================] - 3s 6ms/step - loss: 0.8537 - accuracy: 0.5958 - val_loss: 0.8001 - val_accuracy: 0.6343\n",
            "Epoch 7/50\n",
            "502/502 [==============================] - 3s 6ms/step - loss: 0.8256 - accuracy: 0.6120 - val_loss: 0.7755 - val_accuracy: 0.6419\n",
            "Epoch 8/50\n",
            "502/502 [==============================] - 3s 6ms/step - loss: 0.8003 - accuracy: 0.6316 - val_loss: 0.7482 - val_accuracy: 0.6703\n",
            "Epoch 9/50\n",
            "502/502 [==============================] - 3s 6ms/step - loss: 0.7733 - accuracy: 0.6433 - val_loss: 0.7433 - val_accuracy: 0.6776\n",
            "Epoch 10/50\n",
            "502/502 [==============================] - 3s 6ms/step - loss: 0.7577 - accuracy: 0.6575 - val_loss: 0.7150 - val_accuracy: 0.6871\n",
            "Epoch 11/50\n",
            "502/502 [==============================] - 3s 6ms/step - loss: 0.7356 - accuracy: 0.6746 - val_loss: 0.6936 - val_accuracy: 0.7072\n",
            "Epoch 12/50\n",
            "502/502 [==============================] - 3s 6ms/step - loss: 0.7147 - accuracy: 0.6868 - val_loss: 0.6743 - val_accuracy: 0.7115\n",
            "Epoch 13/50\n",
            "502/502 [==============================] - 3s 6ms/step - loss: 0.7021 - accuracy: 0.7025 - val_loss: 0.6595 - val_accuracy: 0.7258\n",
            "Epoch 14/50\n",
            "502/502 [==============================] - 3s 6ms/step - loss: 0.6822 - accuracy: 0.7114 - val_loss: 0.6615 - val_accuracy: 0.7215\n",
            "Epoch 15/50\n",
            "502/502 [==============================] - 3s 6ms/step - loss: 0.6725 - accuracy: 0.7162 - val_loss: 0.6454 - val_accuracy: 0.7313\n",
            "Epoch 16/50\n",
            "502/502 [==============================] - 3s 6ms/step - loss: 0.6678 - accuracy: 0.7186 - val_loss: 0.6414 - val_accuracy: 0.7326\n",
            "Epoch 17/50\n",
            "502/502 [==============================] - 3s 6ms/step - loss: 0.6556 - accuracy: 0.7246 - val_loss: 0.6456 - val_accuracy: 0.7296\n",
            "Epoch 18/50\n",
            "502/502 [==============================] - 3s 6ms/step - loss: 0.6442 - accuracy: 0.7337 - val_loss: 0.6335 - val_accuracy: 0.7321\n",
            "Epoch 19/50\n",
            "502/502 [==============================] - 3s 7ms/step - loss: 0.6255 - accuracy: 0.7456 - val_loss: 0.6406 - val_accuracy: 0.7313\n",
            "Epoch 20/50\n",
            "502/502 [==============================] - 3s 6ms/step - loss: 0.6265 - accuracy: 0.7412 - val_loss: 0.6191 - val_accuracy: 0.7504\n",
            "Epoch 21/50\n",
            "502/502 [==============================] - 3s 6ms/step - loss: 0.6089 - accuracy: 0.7515 - val_loss: 0.6232 - val_accuracy: 0.7442\n",
            "Epoch 22/50\n",
            "502/502 [==============================] - 3s 6ms/step - loss: 0.6095 - accuracy: 0.7535 - val_loss: 0.6131 - val_accuracy: 0.7527\n",
            "Epoch 23/50\n",
            "502/502 [==============================] - 3s 6ms/step - loss: 0.5971 - accuracy: 0.7579 - val_loss: 0.6145 - val_accuracy: 0.7449\n",
            "Epoch 24/50\n",
            "502/502 [==============================] - 3s 6ms/step - loss: 0.5945 - accuracy: 0.7605 - val_loss: 0.6035 - val_accuracy: 0.7585\n",
            "Epoch 25/50\n",
            "502/502 [==============================] - 3s 6ms/step - loss: 0.5822 - accuracy: 0.7647 - val_loss: 0.5961 - val_accuracy: 0.7555\n",
            "Epoch 26/50\n",
            "502/502 [==============================] - 3s 7ms/step - loss: 0.5753 - accuracy: 0.7691 - val_loss: 0.6080 - val_accuracy: 0.7570\n",
            "Epoch 27/50\n",
            "502/502 [==============================] - 3s 6ms/step - loss: 0.5631 - accuracy: 0.7743 - val_loss: 0.5911 - val_accuracy: 0.7703\n",
            "Epoch 28/50\n",
            "502/502 [==============================] - 3s 6ms/step - loss: 0.5623 - accuracy: 0.7787 - val_loss: 0.6013 - val_accuracy: 0.7590\n",
            "Epoch 29/50\n",
            "502/502 [==============================] - 3s 6ms/step - loss: 0.5641 - accuracy: 0.7736 - val_loss: 0.6054 - val_accuracy: 0.7580\n",
            "Epoch 30/50\n",
            "502/502 [==============================] - 3s 6ms/step - loss: 0.5549 - accuracy: 0.7800 - val_loss: 0.5951 - val_accuracy: 0.7670\n",
            "Epoch 31/50\n",
            "502/502 [==============================] - 3s 6ms/step - loss: 0.5443 - accuracy: 0.7799 - val_loss: 0.5956 - val_accuracy: 0.7643\n"
          ]
        }
      ]
    },
    {
      "cell_type": "code",
      "metadata": {
        "id": "tuOhNOEnrgtg"
      },
      "source": [
        ""
      ],
      "execution_count": null,
      "outputs": []
    },
    {
      "cell_type": "code",
      "metadata": {
        "colab": {
          "base_uri": "https://localhost:8080/",
          "height": 295
        },
        "id": "juYj3KGarLJb",
        "outputId": "1de6af80-0ad4-496b-8523-df70cdc95dc7"
      },
      "source": [
        "learning_curves(history.history, 31)"
      ],
      "execution_count": null,
      "outputs": [
        {
          "data": {
            "image/png": "[encoded data removed]",
            "text/plain": [
              "<Figure size 432x288 with 1 Axes>"
            ]
          },
          "metadata": {},
          "output_type": "display_data"
        }
      ]
    },
    {
      "cell_type": "code",
      "metadata": {
        "id": "PbpTZTgKrPDy"
      },
      "source": [
        "def create_model_5():\n",
        "  model = tf.keras.models.Sequential()\n",
        "\n",
        "  model.add(tf.keras.layers.Conv2D(32, kernel_size=(3,3), activation='relu', strides=(1,1), padding='valid'))\n",
        "  model.add(tf.keras.layers.MaxPooling2D(pool_size=(2,2)))\n",
        "  model.add(tf.keras.layers.Dropout(.3))\n",
        " \n",
        "  model.add(tf.keras.layers.Conv2D(32, kernel_size=(3,3), activation='relu', strides=(1,1), padding='same'))\n",
        "  model.add(tf.keras.layers.MaxPooling2D(pool_size=(2,2)))\n",
        "  model.add(tf.keras.layers.Dropout(.3))\n",
        "\n",
        "  model.add(tf.keras.layers.Conv2D(128, kernel_size=(3,3), activation='relu', strides=(1,1), padding='valid'))\n",
        "  model.add(tf.keras.layers.MaxPooling2D(pool_size=(2,2)))\n",
        "  model.add(tf.keras.layers.Conv2D(128, kernel_size=(3,3), activation='relu', strides=(1,1), padding='same'))\n",
        "  model.add(tf.keras.layers.MaxPooling2D(pool_size=(2,2)))\n",
        "  model.add(tf.keras.layers.Dropout(.3))\n",
        "\n",
        "  model.add(tf.keras.layers.Conv2D(512, kernel_size=(3,3), activation='relu', strides=(1,1), padding='same', kernel_regularizer=regularizers.l2(0.08)))\n",
        "  model.add(tf.keras.layers.MaxPooling2D(pool_size=(2,2)))\n",
        "  model.add(tf.keras.layers.Dropout(.3))\n",
        "\n",
        "  model.add(tf.keras.layers.Flatten())\n",
        "  model.add(tf.keras.layers.Dense(300, activation='relu'))\n",
        "  model.add(tf.keras.layers.Dropout(0.2))\n",
        "  model.add(tf.keras.layers.Dense(3, activation='softmax'))\n",
        "\n",
        "  model.compile(loss='sparse_categorical_crossentropy', optimizer=tf.keras.optimizers.Adam(learning_rate=0.0003), metrics=['accuracy'])\n",
        "\n",
        "  return model  "
      ],
      "execution_count": null,
      "outputs": []
    },
    {
      "cell_type": "code",
      "metadata": {
        "colab": {
          "base_uri": "https://localhost:8080/"
        },
        "id": "cgKjUENnrhfX",
        "outputId": "88eaaf7d-521c-452a-b1dd-c8064bb9fb96"
      },
      "source": [
        "history = main(create_model_5())"
      ],
      "execution_count": null,
      "outputs": [
        {
          "name": "stdout",
          "output_type": "stream",
          "text": [
            "Epoch 1/50\n",
            "502/502 [==============================] - 4s 7ms/step - loss: 2.0970 - accuracy: 0.4489 - val_loss: 1.0683 - val_accuracy: 0.4458\n",
            "Epoch 2/50\n",
            "502/502 [==============================] - 3s 6ms/step - loss: 1.0594 - accuracy: 0.4582 - val_loss: 1.0528 - val_accuracy: 0.4763\n",
            "Epoch 3/50\n",
            "502/502 [==============================] - 3s 6ms/step - loss: 1.0484 - accuracy: 0.4709 - val_loss: 1.0363 - val_accuracy: 0.4858\n",
            "Epoch 4/50\n",
            "502/502 [==============================] - 3s 6ms/step - loss: 1.0102 - accuracy: 0.5054 - val_loss: 0.9313 - val_accuracy: 0.5700\n",
            "Epoch 5/50\n",
            "502/502 [==============================] - 3s 6ms/step - loss: 0.9240 - accuracy: 0.5601 - val_loss: 0.8693 - val_accuracy: 0.5843\n",
            "Epoch 6/50\n",
            "502/502 [==============================] - 3s 7ms/step - loss: 0.8715 - accuracy: 0.5825 - val_loss: 0.8269 - val_accuracy: 0.6117\n",
            "Epoch 7/50\n",
            "502/502 [==============================] - 3s 7ms/step - loss: 0.8404 - accuracy: 0.5992 - val_loss: 0.7948 - val_accuracy: 0.6323\n",
            "Epoch 8/50\n",
            "502/502 [==============================] - 3s 6ms/step - loss: 0.8126 - accuracy: 0.6163 - val_loss: 0.7700 - val_accuracy: 0.6439\n",
            "Epoch 9/50\n",
            "502/502 [==============================] - 3s 6ms/step - loss: 0.7928 - accuracy: 0.6304 - val_loss: 0.7465 - val_accuracy: 0.6577\n",
            "Epoch 10/50\n",
            "502/502 [==============================] - 3s 6ms/step - loss: 0.7734 - accuracy: 0.6429 - val_loss: 0.7361 - val_accuracy: 0.6788\n",
            "Epoch 11/50\n",
            "502/502 [==============================] - 3s 6ms/step - loss: 0.7574 - accuracy: 0.6600 - val_loss: 0.7224 - val_accuracy: 0.6843\n",
            "Epoch 12/50\n",
            "502/502 [==============================] - 3s 7ms/step - loss: 0.7411 - accuracy: 0.6683 - val_loss: 0.7093 - val_accuracy: 0.6929\n",
            "Epoch 13/50\n",
            "502/502 [==============================] - 3s 6ms/step - loss: 0.7241 - accuracy: 0.6793 - val_loss: 0.6914 - val_accuracy: 0.7070\n",
            "Epoch 14/50\n",
            "502/502 [==============================] - 3s 6ms/step - loss: 0.7067 - accuracy: 0.6956 - val_loss: 0.6876 - val_accuracy: 0.7057\n",
            "Epoch 15/50\n",
            "502/502 [==============================] - 3s 6ms/step - loss: 0.6941 - accuracy: 0.7021 - val_loss: 0.6623 - val_accuracy: 0.7203\n",
            "Epoch 16/50\n",
            "502/502 [==============================] - 3s 7ms/step - loss: 0.6794 - accuracy: 0.7108 - val_loss: 0.6415 - val_accuracy: 0.7308\n",
            "Epoch 17/50\n",
            "502/502 [==============================] - 3s 6ms/step - loss: 0.6691 - accuracy: 0.7217 - val_loss: 0.6399 - val_accuracy: 0.7364\n",
            "Epoch 18/50\n",
            "502/502 [==============================] - 3s 6ms/step - loss: 0.6655 - accuracy: 0.7223 - val_loss: 0.6442 - val_accuracy: 0.7311\n",
            "Epoch 19/50\n",
            "502/502 [==============================] - 3s 7ms/step - loss: 0.6461 - accuracy: 0.7283 - val_loss: 0.6254 - val_accuracy: 0.7434\n",
            "Epoch 20/50\n",
            "502/502 [==============================] - 3s 6ms/step - loss: 0.6421 - accuracy: 0.7344 - val_loss: 0.6191 - val_accuracy: 0.7442\n",
            "Epoch 21/50\n",
            "502/502 [==============================] - 3s 6ms/step - loss: 0.6313 - accuracy: 0.7398 - val_loss: 0.6148 - val_accuracy: 0.7509\n",
            "Epoch 22/50\n",
            "502/502 [==============================] - 3s 7ms/step - loss: 0.6196 - accuracy: 0.7455 - val_loss: 0.6135 - val_accuracy: 0.7525\n",
            "Epoch 23/50\n",
            "502/502 [==============================] - 3s 6ms/step - loss: 0.6170 - accuracy: 0.7493 - val_loss: 0.6045 - val_accuracy: 0.7565\n",
            "Epoch 24/50\n",
            "502/502 [==============================] - 3s 6ms/step - loss: 0.6081 - accuracy: 0.7569 - val_loss: 0.6103 - val_accuracy: 0.7525\n",
            "Epoch 25/50\n",
            "502/502 [==============================] - 3s 7ms/step - loss: 0.6020 - accuracy: 0.7565 - val_loss: 0.6063 - val_accuracy: 0.7612\n",
            "Epoch 26/50\n",
            "502/502 [==============================] - 3s 7ms/step - loss: 0.5932 - accuracy: 0.7625 - val_loss: 0.6064 - val_accuracy: 0.7504\n",
            "Epoch 27/50\n",
            "502/502 [==============================] - 3s 6ms/step - loss: 0.5860 - accuracy: 0.7656 - val_loss: 0.6043 - val_accuracy: 0.7565\n",
            "Epoch 28/50\n",
            "502/502 [==============================] - 3s 6ms/step - loss: 0.5883 - accuracy: 0.7634 - val_loss: 0.6497 - val_accuracy: 0.7492\n",
            "Epoch 29/50\n",
            "502/502 [==============================] - 3s 6ms/step - loss: 0.5798 - accuracy: 0.7683 - val_loss: 0.6158 - val_accuracy: 0.7587\n",
            "Epoch 30/50\n",
            "502/502 [==============================] - 3s 6ms/step - loss: 0.5709 - accuracy: 0.7735 - val_loss: 0.6056 - val_accuracy: 0.7587\n",
            "Epoch 31/50\n",
            "502/502 [==============================] - 3s 7ms/step - loss: 0.5664 - accuracy: 0.7746 - val_loss: 0.5935 - val_accuracy: 0.7658\n",
            "Epoch 32/50\n",
            "502/502 [==============================] - 3s 7ms/step - loss: 0.5599 - accuracy: 0.7768 - val_loss: 0.5952 - val_accuracy: 0.7633\n",
            "Epoch 33/50\n",
            "502/502 [==============================] - 3s 6ms/step - loss: 0.5533 - accuracy: 0.7798 - val_loss: 0.5941 - val_accuracy: 0.7673\n",
            "Epoch 34/50\n",
            "502/502 [==============================] - 3s 6ms/step - loss: 0.5455 - accuracy: 0.7848 - val_loss: 0.6033 - val_accuracy: 0.7690\n",
            "Epoch 35/50\n",
            "502/502 [==============================] - 3s 7ms/step - loss: 0.5469 - accuracy: 0.7864 - val_loss: 0.5862 - val_accuracy: 0.7721\n",
            "Epoch 36/50\n",
            "502/502 [==============================] - 3s 7ms/step - loss: 0.5429 - accuracy: 0.7923 - val_loss: 0.5858 - val_accuracy: 0.7670\n",
            "Epoch 37/50\n",
            "502/502 [==============================] - 3s 6ms/step - loss: 0.5292 - accuracy: 0.7958 - val_loss: 0.5943 - val_accuracy: 0.7685\n",
            "Epoch 38/50\n",
            "502/502 [==============================] - 3s 6ms/step - loss: 0.5289 - accuracy: 0.7936 - val_loss: 0.6133 - val_accuracy: 0.7620\n",
            "Epoch 39/50\n",
            "502/502 [==============================] - 3s 6ms/step - loss: 0.5191 - accuracy: 0.7989 - val_loss: 0.5975 - val_accuracy: 0.7675\n",
            "Epoch 40/50\n",
            "502/502 [==============================] - 3s 7ms/step - loss: 0.5246 - accuracy: 0.7956 - val_loss: 0.5848 - val_accuracy: 0.7748\n",
            "Epoch 41/50\n",
            "502/502 [==============================] - 3s 6ms/step - loss: 0.5137 - accuracy: 0.8017 - val_loss: 0.5922 - val_accuracy: 0.7700\n",
            "Epoch 42/50\n",
            "502/502 [==============================] - 3s 7ms/step - loss: 0.5111 - accuracy: 0.8020 - val_loss: 0.5926 - val_accuracy: 0.7748\n",
            "Epoch 43/50\n",
            "502/502 [==============================] - 3s 6ms/step - loss: 0.5013 - accuracy: 0.8095 - val_loss: 0.5775 - val_accuracy: 0.7763\n",
            "Epoch 44/50\n",
            "502/502 [==============================] - 3s 6ms/step - loss: 0.5056 - accuracy: 0.8032 - val_loss: 0.5900 - val_accuracy: 0.7748\n",
            "Epoch 45/50\n",
            "502/502 [==============================] - 3s 7ms/step - loss: 0.4992 - accuracy: 0.8100 - val_loss: 0.5925 - val_accuracy: 0.7758\n",
            "Epoch 46/50\n",
            "502/502 [==============================] - 3s 6ms/step - loss: 0.4903 - accuracy: 0.8160 - val_loss: 0.5975 - val_accuracy: 0.7728\n",
            "Epoch 47/50\n",
            "502/502 [==============================] - 3s 6ms/step - loss: 0.4946 - accuracy: 0.8112 - val_loss: 0.5910 - val_accuracy: 0.7763\n"
          ]
        }
      ]
    },
    {
      "cell_type": "code",
      "metadata": {
        "colab": {
          "base_uri": "https://localhost:8080/",
          "height": 295
        },
        "id": "3UV-G8morieT",
        "outputId": "690256da-26be-4ec8-f41e-ea6b94c2bdc4"
      },
      "source": [
        "learning_curves(history.history, 47)"
      ],
      "execution_count": null,
      "outputs": [
        {
          "data": {
            "image/png": "[encoded data removed]",
            "text/plain": [
              "<Figure size 432x288 with 1 Axes>"
            ]
          },
          "metadata": {},
          "output_type": "display_data"
        }
      ]
    },
    {
      "cell_type": "code",
      "metadata": {
        "id": "zFCmhC-mMnHD"
      },
      "source": [
        "def create_model_7():\n",
        "  model = tf.keras.models.Sequential()\n",
        "\n",
        "  model.add(tf.keras.layers.Conv2D(24, kernel_size=(3,3), activation='relu', strides=(1,1), padding='same'))\n",
        "  model.add(tf.keras.layers.BatchNormalization(axis=3))\n",
        "  model.add(tf.keras.layers.MaxPooling2D(pool_size=(2,2), padding='same'))\n",
        "  model.add(tf.keras.layers.Dropout(.3))\n",
        " \n",
        "  model.add(tf.keras.layers.Conv2D(32, kernel_size=(3,3), activation='relu', strides=(1,1), padding='same'))\n",
        "  model.add(tf.keras.layers.BatchNormalization(axis=3))\n",
        "  model.add(tf.keras.layers.MaxPooling2D(pool_size=(2,2), padding='same'))\n",
        "  model.add(tf.keras.layers.Dropout(.3))\n",
        "\n",
        "  model.add(tf.keras.layers.Conv2D(128, kernel_size=(3,3), activation='relu'))\n",
        "  model.add(tf.keras.layers.BatchNormalization(axis=3))\n",
        "  model.add(tf.keras.layers.MaxPooling2D(pool_size=(2,2), padding='same'))\n",
        "  model.add(tf.keras.layers.Dropout(.3))\n",
        "\n",
        "  model.add(tf.keras.layers.Conv2D(240, kernel_size=(3,3), activation='relu', strides=(1,1)))\n",
        "  model.add(tf.keras.layers.BatchNormalization(axis=3))\n",
        "  model.add(tf.keras.layers.MaxPooling2D(pool_size=(2,2), padding='same'))\n",
        "  model.add(tf.keras.layers.Conv2D(512, kernel_size=(3,3), activation='relu', strides=(1,1), padding='same'))\n",
        "  model.add(tf.keras.layers.BatchNormalization(axis=3))\n",
        "  model.add(tf.keras.layers.MaxPooling2D(pool_size=(2,2), padding='same'))\n",
        "  model.add(tf.keras.layers.Dropout(.4))\n",
        "\n",
        "  model.add(tf.keras.layers.Conv2D(752, kernel_size=(3,3), activation='relu', strides=(1,1), padding='same', kernel_regularizer=regularizers.l2(0.001)))\n",
        "  model.add(tf.keras.layers.BatchNormalization(axis=3))\n",
        "  model.add(tf.keras.layers.MaxPooling2D(pool_size=(2,2), padding='same'))\n",
        "  model.add(tf.keras.layers.Dropout(.4))\n",
        "\n",
        "  model.add(tf.keras.layers.Flatten())\n",
        "  model.add(tf.keras.layers.Dense(300, activation='relu', kernel_regularizer=regularizers.l2(0.01)))\n",
        "  model.add(tf.keras.layers.Dropout(0.2))\n",
        "  model.add(tf.keras.layers.Dense(3, activation='softmax'))\n",
        "\n",
        "  model.compile(loss='sparse_categorical_crossentropy', optimizer=tf.keras.optimizers.Adam(learning_rate=0.0003), metrics=['accuracy'])\n",
        "\n",
        "  return model  "
      ],
      "execution_count": null,
      "outputs": []
    },
    {
      "cell_type": "code",
      "metadata": {
        "colab": {
          "base_uri": "https://localhost:8080/"
        },
        "id": "erwUtzjpMtbr",
        "outputId": "6c4ad862-c134-44c4-b9bd-2b9f24b2f652"
      },
      "source": [
        "history = main(create_model_7())"
      ],
      "execution_count": null,
      "outputs": [
        {
          "output_type": "stream",
          "name": "stdout",
          "text": [
            "Epoch 1/50\n",
            "502/502 [==============================] - 7s 12ms/step - loss: 4.5052 - accuracy: 0.4171 - val_loss: 3.4541 - val_accuracy: 0.4602\n",
            "Epoch 2/50\n",
            "502/502 [==============================] - 5s 11ms/step - loss: 2.7041 - accuracy: 0.4885 - val_loss: 2.2113 - val_accuracy: 0.5119\n",
            "Epoch 3/50\n",
            "502/502 [==============================] - 6s 11ms/step - loss: 1.8398 - accuracy: 0.5393 - val_loss: 1.6957 - val_accuracy: 0.5539\n",
            "Epoch 4/50\n",
            "502/502 [==============================] - 5s 11ms/step - loss: 1.3876 - accuracy: 0.5727 - val_loss: 1.2308 - val_accuracy: 0.5831\n",
            "Epoch 5/50\n",
            "502/502 [==============================] - 5s 11ms/step - loss: 1.1342 - accuracy: 0.6004 - val_loss: 0.9929 - val_accuracy: 0.6502\n",
            "Epoch 6/50\n",
            "502/502 [==============================] - 6s 11ms/step - loss: 0.9882 - accuracy: 0.6289 - val_loss: 0.8981 - val_accuracy: 0.6426\n",
            "Epoch 7/50\n",
            "502/502 [==============================] - 6s 11ms/step - loss: 0.8975 - accuracy: 0.6506 - val_loss: 0.8241 - val_accuracy: 0.6768\n",
            "Epoch 8/50\n",
            "502/502 [==============================] - 5s 11ms/step - loss: 0.8335 - accuracy: 0.6667 - val_loss: 0.7879 - val_accuracy: 0.6919\n",
            "Epoch 9/50\n",
            "502/502 [==============================] - 5s 11ms/step - loss: 0.7934 - accuracy: 0.6856 - val_loss: 0.7550 - val_accuracy: 0.6964\n",
            "Epoch 10/50\n",
            "502/502 [==============================] - 6s 11ms/step - loss: 0.7437 - accuracy: 0.7037 - val_loss: 0.7135 - val_accuracy: 0.7137\n",
            "Epoch 11/50\n",
            "502/502 [==============================] - 5s 11ms/step - loss: 0.7139 - accuracy: 0.7158 - val_loss: 0.6982 - val_accuracy: 0.7246\n",
            "Epoch 12/50\n",
            "502/502 [==============================] - 5s 11ms/step - loss: 0.6875 - accuracy: 0.7251 - val_loss: 0.6733 - val_accuracy: 0.7293\n",
            "Epoch 13/50\n",
            "502/502 [==============================] - 5s 11ms/step - loss: 0.6623 - accuracy: 0.7360 - val_loss: 0.6527 - val_accuracy: 0.7424\n",
            "Epoch 14/50\n",
            "502/502 [==============================] - 5s 11ms/step - loss: 0.6394 - accuracy: 0.7468 - val_loss: 0.6490 - val_accuracy: 0.7414\n",
            "Epoch 15/50\n",
            "502/502 [==============================] - 6s 11ms/step - loss: 0.6103 - accuracy: 0.7584 - val_loss: 0.6311 - val_accuracy: 0.7517\n",
            "Epoch 16/50\n",
            "502/502 [==============================] - 5s 11ms/step - loss: 0.5905 - accuracy: 0.7711 - val_loss: 0.6232 - val_accuracy: 0.7497\n",
            "Epoch 17/50\n",
            "502/502 [==============================] - 5s 11ms/step - loss: 0.5647 - accuracy: 0.7808 - val_loss: 0.6536 - val_accuracy: 0.7434\n",
            "Epoch 18/50\n",
            "502/502 [==============================] - 5s 11ms/step - loss: 0.5424 - accuracy: 0.7913 - val_loss: 0.7553 - val_accuracy: 0.6856\n",
            "Epoch 19/50\n",
            "502/502 [==============================] - 5s 11ms/step - loss: 0.5256 - accuracy: 0.8032 - val_loss: 0.6972 - val_accuracy: 0.7316\n",
            "Epoch 20/50\n",
            "502/502 [==============================] - 5s 11ms/step - loss: 0.5070 - accuracy: 0.8090 - val_loss: 0.6528 - val_accuracy: 0.7439\n"
          ]
        }
      ]
    },
    {
      "cell_type": "code",
      "metadata": {
        "id": "UoYQg9ejNCkp"
      },
      "source": [
        ""
      ],
      "execution_count": null,
      "outputs": []
    },
    {
      "cell_type": "code",
      "metadata": {
        "colab": {
          "base_uri": "https://localhost:8080/",
          "height": 295
        },
        "id": "H3bSuqUGNCss",
        "outputId": "f66d19c0-f087-4dc3-98d6-bb678b0b14f2"
      },
      "source": [
        "learning_curves(history.history, 38)"
      ],
      "execution_count": null,
      "outputs": [
        {
          "output_type": "display_data",
          "data": {
            "image/png": "[encoded data removed]",
            "text/plain": [
              "<Figure size 432x288 with 1 Axes>"
            ]
          },
          "metadata": {
            "needs_background": "light"
          }
        }
      ]
    },
    {
      "cell_type": "code",
      "metadata": {
        "id": "uaw7KZFUsJpl"
      },
      "source": [
        "def create_model_6():\n",
        "  model = tf.keras.models.Sequential()\n",
        "\n",
        "  model.add(tf.keras.layers.Conv2D(32, kernel_size=(3,3), activation='relu', strides=(1,1), padding='valid'))\n",
        "  # model.add(tf.keras.layers.BatchNormalization(axis=3))\n",
        "  model.add(tf.keras.layers.MaxPooling2D(pool_size=(2,2)))\n",
        "  model.add(tf.keras.layers.Dropout(.3))\n",
        " \n",
        "  model.add(tf.keras.layers.Conv2D(32, kernel_size=(3,3), activation='relu', strides=(1,1), padding='same'))\n",
        "  # model.add(tf.keras.layers.BatchNormalization(axis=3))\n",
        "  model.add(tf.keras.layers.MaxPooling2D(pool_size=(2,2)))\n",
        "  model.add(tf.keras.layers.Dropout(.3))\n",
        "\n",
        "\n",
        "  model.add(tf.keras.layers.Conv2D(128, kernel_size=(3,3), activation='relu', strides=(1,1), padding='valid'))\n",
        "  # model.add(tf.keras.layers.BatchNormalization(axis=3))\n",
        "  model.add(tf.keras.layers.MaxPooling2D(pool_size=(2,2)))\n",
        "  model.add(tf.keras.layers.Conv2D(128, kernel_size=(3,3), activation='relu', strides=(1,1), padding='same'))\n",
        "  # model.add(tf.keras.layers.BatchNormalization(axis=3))\n",
        "  model.add(tf.keras.layers.MaxPooling2D(pool_size=(2,2)))\n",
        "  model.add(tf.keras.layers.Dropout(.3))\n",
        "\n",
        "  model.add(tf.keras.layers.Conv2D(512, kernel_size=(3,3), activation='relu', strides=(1,1), padding='same', kernel_regularizer=regularizers.l2(0.09)))\n",
        "  # model.add(tf.keras.layers.BatchNormalization(axis=3))\n",
        "  model.add(tf.keras.layers.MaxPooling2D(pool_size=(2,2)))\n",
        "  model.add(tf.keras.layers.Dropout(.3))\n",
        "\n",
        "\n",
        "  model.add(tf.keras.layers.Flatten())\n",
        "  model.add(tf.keras.layers.Dense(300, activation='relu'))\n",
        "  model.add(tf.keras.layers.Dropout(0.2))\n",
        "  model.add(tf.keras.layers.Dense(3, activation='softmax'))\n",
        "\n",
        "  model.compile(loss='sparse_categorical_crossentropy', optimizer=tf.keras.optimizers.Adam(learning_rate=0.0005), metrics=['accuracy'])\n",
        "\n",
        "  return model  "
      ],
      "execution_count": null,
      "outputs": []
    },
    {
      "cell_type": "code",
      "metadata": {
        "colab": {
          "base_uri": "https://localhost:8080/"
        },
        "id": "BHCf50PusdDH",
        "outputId": "3b515279-8733-4990-cee4-1166459e3ce7"
      },
      "source": [
        "history = main(create_model_6())"
      ],
      "execution_count": null,
      "outputs": [
        {
          "name": "stdout",
          "output_type": "stream",
          "text": [
            "Epoch 1/50\n",
            "502/502 [==============================] - 4s 6ms/step - loss: 1.7454 - accuracy: 0.4493 - val_loss: 1.0565 - val_accuracy: 0.4544\n",
            "Epoch 2/50\n",
            "502/502 [==============================] - 3s 6ms/step - loss: 1.0563 - accuracy: 0.4687 - val_loss: 1.0456 - val_accuracy: 0.4732\n",
            "Epoch 3/50\n",
            "502/502 [==============================] - 3s 6ms/step - loss: 1.0358 - accuracy: 0.4872 - val_loss: 0.9778 - val_accuracy: 0.5285\n",
            "Epoch 4/50\n",
            "502/502 [==============================] - 3s 6ms/step - loss: 0.9610 - accuracy: 0.5400 - val_loss: 0.9258 - val_accuracy: 0.5439\n",
            "Epoch 5/50\n",
            "502/502 [==============================] - 3s 6ms/step - loss: 0.8960 - accuracy: 0.5725 - val_loss: 0.8423 - val_accuracy: 0.6062\n",
            "Epoch 6/50\n",
            "502/502 [==============================] - 3s 6ms/step - loss: 0.8475 - accuracy: 0.5996 - val_loss: 0.8162 - val_accuracy: 0.6170\n",
            "Epoch 7/50\n",
            "502/502 [==============================] - 3s 6ms/step - loss: 0.8234 - accuracy: 0.6050 - val_loss: 0.7816 - val_accuracy: 0.6275\n",
            "Epoch 8/50\n",
            "502/502 [==============================] - 3s 6ms/step - loss: 0.8062 - accuracy: 0.6157 - val_loss: 0.7649 - val_accuracy: 0.6409\n",
            "Epoch 9/50\n",
            "502/502 [==============================] - 3s 6ms/step - loss: 0.7880 - accuracy: 0.6264 - val_loss: 0.7474 - val_accuracy: 0.6509\n",
            "Epoch 10/50\n",
            "502/502 [==============================] - 3s 6ms/step - loss: 0.7681 - accuracy: 0.6398 - val_loss: 0.7251 - val_accuracy: 0.6705\n",
            "Epoch 11/50\n",
            "502/502 [==============================] - 3s 7ms/step - loss: 0.7565 - accuracy: 0.6542 - val_loss: 0.7185 - val_accuracy: 0.6874\n",
            "Epoch 12/50\n",
            "502/502 [==============================] - 3s 6ms/step - loss: 0.7488 - accuracy: 0.6610 - val_loss: 0.7026 - val_accuracy: 0.6823\n",
            "Epoch 13/50\n",
            "502/502 [==============================] - 3s 6ms/step - loss: 0.7230 - accuracy: 0.6815 - val_loss: 0.6796 - val_accuracy: 0.7110\n",
            "Epoch 14/50\n",
            "502/502 [==============================] - 3s 6ms/step - loss: 0.7087 - accuracy: 0.6926 - val_loss: 0.6909 - val_accuracy: 0.7080\n",
            "Epoch 15/50\n",
            "502/502 [==============================] - 3s 7ms/step - loss: 0.7027 - accuracy: 0.6959 - val_loss: 0.6685 - val_accuracy: 0.7241\n",
            "Epoch 16/50\n",
            "502/502 [==============================] - 3s 7ms/step - loss: 0.6852 - accuracy: 0.7102 - val_loss: 0.6766 - val_accuracy: 0.7127\n",
            "Epoch 17/50\n",
            "502/502 [==============================] - 3s 6ms/step - loss: 0.6750 - accuracy: 0.7149 - val_loss: 0.6555 - val_accuracy: 0.7356\n",
            "Epoch 18/50\n",
            "502/502 [==============================] - 3s 7ms/step - loss: 0.6686 - accuracy: 0.7177 - val_loss: 0.6377 - val_accuracy: 0.7374\n",
            "Epoch 19/50\n",
            "502/502 [==============================] - 3s 6ms/step - loss: 0.6538 - accuracy: 0.7266 - val_loss: 0.6308 - val_accuracy: 0.7421\n",
            "Epoch 20/50\n",
            "502/502 [==============================] - 3s 6ms/step - loss: 0.6446 - accuracy: 0.7348 - val_loss: 0.6402 - val_accuracy: 0.7356\n",
            "Epoch 21/50\n",
            "502/502 [==============================] - 3s 7ms/step - loss: 0.6444 - accuracy: 0.7344 - val_loss: 0.6276 - val_accuracy: 0.7424\n",
            "Epoch 22/50\n",
            "502/502 [==============================] - 3s 7ms/step - loss: 0.6327 - accuracy: 0.7404 - val_loss: 0.6220 - val_accuracy: 0.7522\n",
            "Epoch 23/50\n",
            "502/502 [==============================] - 3s 6ms/step - loss: 0.6307 - accuracy: 0.7426 - val_loss: 0.6222 - val_accuracy: 0.7487\n",
            "Epoch 24/50\n",
            "502/502 [==============================] - 3s 6ms/step - loss: 0.6209 - accuracy: 0.7446 - val_loss: 0.6517 - val_accuracy: 0.7369\n",
            "Epoch 25/50\n",
            "502/502 [==============================] - 3s 7ms/step - loss: 0.6111 - accuracy: 0.7494 - val_loss: 0.6310 - val_accuracy: 0.7442\n",
            "Epoch 26/50\n",
            "502/502 [==============================] - 3s 6ms/step - loss: 0.6092 - accuracy: 0.7538 - val_loss: 0.6221 - val_accuracy: 0.7494\n"
          ]
        }
      ]
    },
    {
      "cell_type": "code",
      "metadata": {
        "colab": {
          "base_uri": "https://localhost:8080/",
          "height": 295
        },
        "id": "ps8lLg_Jszug",
        "outputId": "aa5cc8aa-396f-4671-fe12-9c8da39bdc88"
      },
      "source": [
        "learning_curves(history.history, 26)"
      ],
      "execution_count": null,
      "outputs": [
        {
          "data": {
            "image/png": "[encoded data removed]",
            "text/plain": [
              "<Figure size 432x288 with 1 Axes>"
            ]
          },
          "metadata": {},
          "output_type": "display_data"
        }
      ]
    }
  ]
}